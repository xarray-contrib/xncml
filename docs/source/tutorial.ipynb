{
 "cells": [
  {
   "cell_type": "markdown",
   "metadata": {},
   "source": [
    "# Xncml Usage"
   ]
  },
  {
   "cell_type": "code",
   "execution_count": 1,
   "metadata": {},
   "outputs": [],
   "source": [
    "import xncml\n",
    "from pathlib import Path"
   ]
  },
  {
   "cell_type": "markdown",
   "metadata": {},
   "source": [
    "## Modify an NcML document\n",
    "\n",
    "``xncml`` can add or remove global and variable attributes, and remove variables and dimensions. It can also be used to create NcML files from scratch.\n",
    "\n",
    "### Create an Ncml Dataset object from a local NcML file"
   ]
  },
  {
   "cell_type": "code",
   "execution_count": 2,
   "metadata": {},
   "outputs": [
    {
     "data": {
      "text/plain": "<?xml version=\"1.0\" encoding=\"utf-8\"?>\n<netcdf location=\"nc/example1.nc\" xmlns=\"http://www.unidata.ucar.edu/namespaces/netcdf/ncml-2.2\">\n\t<dimension name=\"time\" length=\"2\" isUnlimited=\"true\"></dimension>\n\t<dimension name=\"lat\" length=\"3\"></dimension>\n\t<dimension name=\"lon\" length=\"4\"></dimension>\n\t<attribute name=\"title\" type=\"String\" value=\"Example Data\"></attribute>\n\t<variable name=\"rh\" shape=\"time lat lon\" type=\"int\">\n\t\t<attribute name=\"long_name\" type=\"String\" value=\"relative humidity\"></attribute>\n\t\t<attribute name=\"units\" type=\"String\" value=\"percent\"></attribute>\n\t</variable>\n\t<variable name=\"T\" shape=\"time lat lon\" type=\"double\">\n\t\t<attribute name=\"long_name\" type=\"String\" value=\"surface temperature\"></attribute>\n\t\t<attribute name=\"units\" type=\"String\" value=\"C\"></attribute>\n\t</variable>\n\t<variable name=\"lat\" shape=\"lat\" type=\"float\">\n\t\t<attribute name=\"units\" type=\"String\" value=\"degrees_north\"></attribute>\n\t\t<values>41.0 40.0 39.0</values>\n\t</variable>\n\t<variable name=\"lon\" shape=\"lon\" type=\"float\">\n\t\t<attribute name=\"units\" type=\"String\" value=\"degrees_east\"></attribute>\n\t\t<values>-109.0 -107.0 -105.0 -103.0</values>\n\t</variable>\n\t<variable name=\"time\" shape=\"time\" type=\"int\">\n\t\t<attribute name=\"units\" type=\"String\" value=\"hours\"></attribute>\n\t\t<values>6 18</values>\n\t</variable>\n</netcdf>"
     },
     "execution_count": 2,
     "metadata": {},
     "output_type": "execute_result"
    }
   ],
   "source": [
    "p = Path(xncml.__file__).parent.parent / \"tests\" / \"data\"\n",
    "nc = xncml.Dataset(p / \"exercise1.ncml\")\n",
    "nc"
   ]
  },
  {
   "cell_type": "markdown",
   "source": [
    "### Create an NcML Dataset modifying a netCDF file\n",
    "\n",
    "Here we're creating an empty NcML dataset from scratch, in which we can include modifying statements that will apply to an existing netCDF dataset identified by the `location` argument."
   ],
   "metadata": {
    "collapsed": false
   }
  },
  {
   "cell_type": "code",
   "execution_count": 3,
   "outputs": [
    {
     "data": {
      "text/plain": "<?xml version=\"1.0\" encoding=\"utf-8\"?>\n<netcdf xmlns=\"http://www.unidata.ucar.edu/namespaces/netcdf/ncml-2.2\" location=\"nc/example1.nc\"></netcdf>"
     },
     "execution_count": 3,
     "metadata": {},
     "output_type": "execute_result"
    }
   ],
   "source": [
    "new = xncml.Dataset(location=\"nc/example1.nc\")\n",
    "new"
   ],
   "metadata": {
    "collapsed": false
   }
  },
  {
   "cell_type": "markdown",
   "metadata": {},
   "source": [
    "### Rename the variable `T` to `Temp`"
   ]
  },
  {
   "cell_type": "code",
   "execution_count": 4,
   "metadata": {},
   "outputs": [
    {
     "data": {
      "text/plain": "<?xml version=\"1.0\" encoding=\"utf-8\"?>\n<netcdf location=\"nc/example1.nc\" xmlns=\"http://www.unidata.ucar.edu/namespaces/netcdf/ncml-2.2\">\n\t<dimension name=\"time\" length=\"2\" isUnlimited=\"true\"></dimension>\n\t<dimension name=\"lat\" length=\"3\"></dimension>\n\t<dimension name=\"lon\" length=\"4\"></dimension>\n\t<attribute name=\"title\" type=\"String\" value=\"Example Data\"></attribute>\n\t<variable name=\"rh\" shape=\"time lat lon\" type=\"int\">\n\t\t<attribute name=\"long_name\" type=\"String\" value=\"relative humidity\"></attribute>\n\t\t<attribute name=\"units\" type=\"String\" value=\"percent\"></attribute>\n\t</variable>\n\t<variable name=\"Temp\" shape=\"time lat lon\" type=\"double\" orgName=\"T\">\n\t\t<attribute name=\"long_name\" type=\"String\" value=\"surface temperature\"></attribute>\n\t\t<attribute name=\"units\" type=\"String\" value=\"C\"></attribute>\n\t</variable>\n\t<variable name=\"lat\" shape=\"lat\" type=\"float\">\n\t\t<attribute name=\"units\" type=\"String\" value=\"degrees_north\"></attribute>\n\t\t<values>41.0 40.0 39.0</values>\n\t</variable>\n\t<variable name=\"lon\" shape=\"lon\" type=\"float\">\n\t\t<attribute name=\"units\" type=\"String\" value=\"degrees_east\"></attribute>\n\t\t<values>-109.0 -107.0 -105.0 -103.0</values>\n\t</variable>\n\t<variable name=\"time\" shape=\"time\" type=\"int\">\n\t\t<attribute name=\"units\" type=\"String\" value=\"hours\"></attribute>\n\t\t<values>6 18</values>\n\t</variable>\n</netcdf>"
     },
     "execution_count": 4,
     "metadata": {},
     "output_type": "execute_result"
    }
   ],
   "source": [
    "nc.rename_variable('T', 'Temp')\n",
    "nc"
   ]
  },
  {
   "cell_type": "markdown",
   "metadata": {},
   "source": [
    "### Remove the variable `Temp` from the dataset"
   ]
  },
  {
   "cell_type": "code",
   "execution_count": 5,
   "metadata": {},
   "outputs": [
    {
     "data": {
      "text/plain": "<?xml version=\"1.0\" encoding=\"utf-8\"?>\n<netcdf location=\"nc/example1.nc\" xmlns=\"http://www.unidata.ucar.edu/namespaces/netcdf/ncml-2.2\">\n\t<dimension name=\"time\" length=\"2\" isUnlimited=\"true\"></dimension>\n\t<dimension name=\"lat\" length=\"3\"></dimension>\n\t<dimension name=\"lon\" length=\"4\"></dimension>\n\t<attribute name=\"title\" type=\"String\" value=\"Example Data\"></attribute>\n\t<variable name=\"rh\" shape=\"time lat lon\" type=\"int\">\n\t\t<attribute name=\"long_name\" type=\"String\" value=\"relative humidity\"></attribute>\n\t\t<attribute name=\"units\" type=\"String\" value=\"percent\"></attribute>\n\t</variable>\n\t<variable name=\"Temp\" shape=\"time lat lon\" type=\"double\" orgName=\"T\">\n\t\t<attribute name=\"long_name\" type=\"String\" value=\"surface temperature\"></attribute>\n\t\t<attribute name=\"units\" type=\"String\" value=\"C\"></attribute>\n\t</variable>\n\t<variable name=\"lat\" shape=\"lat\" type=\"float\">\n\t\t<attribute name=\"units\" type=\"String\" value=\"degrees_north\"></attribute>\n\t\t<values>41.0 40.0 39.0</values>\n\t</variable>\n\t<variable name=\"lon\" shape=\"lon\" type=\"float\">\n\t\t<attribute name=\"units\" type=\"String\" value=\"degrees_east\"></attribute>\n\t\t<values>-109.0 -107.0 -105.0 -103.0</values>\n\t</variable>\n\t<variable name=\"time\" shape=\"time\" type=\"int\">\n\t\t<attribute name=\"units\" type=\"String\" value=\"hours\"></attribute>\n\t\t<values>6 18</values>\n\t</variable>\n\t<remove name=\"Temp\" type=\"variable\"></remove>\n</netcdf>"
     },
     "execution_count": 5,
     "metadata": {},
     "output_type": "execute_result"
    }
   ],
   "source": [
    "nc.remove_variable('Temp')\n",
    "nc"
   ]
  },
  {
   "cell_type": "markdown",
   "metadata": {},
   "source": [
    "### Remove the attribute `units` from the variable `Temp`"
   ]
  },
  {
   "cell_type": "code",
   "execution_count": 6,
   "metadata": {},
   "outputs": [
    {
     "data": {
      "text/plain": "<?xml version=\"1.0\" encoding=\"utf-8\"?>\n<netcdf location=\"nc/example1.nc\" xmlns=\"http://www.unidata.ucar.edu/namespaces/netcdf/ncml-2.2\">\n\t<dimension name=\"time\" length=\"2\" isUnlimited=\"true\"></dimension>\n\t<dimension name=\"lat\" length=\"3\"></dimension>\n\t<dimension name=\"lon\" length=\"4\"></dimension>\n\t<attribute name=\"title\" type=\"String\" value=\"Example Data\"></attribute>\n\t<variable name=\"rh\" shape=\"time lat lon\" type=\"int\">\n\t\t<attribute name=\"long_name\" type=\"String\" value=\"relative humidity\"></attribute>\n\t\t<attribute name=\"units\" type=\"String\" value=\"percent\"></attribute>\n\t</variable>\n\t<variable name=\"Temp\" shape=\"time lat lon\" type=\"double\" orgName=\"T\">\n\t\t<attribute name=\"long_name\" type=\"String\" value=\"surface temperature\"></attribute>\n\t\t<attribute name=\"units\" type=\"String\" value=\"C\"></attribute>\n\t\t<remove name=\"units\" type=\"attribute\"></remove>\n\t</variable>\n\t<variable name=\"lat\" shape=\"lat\" type=\"float\">\n\t\t<attribute name=\"units\" type=\"String\" value=\"degrees_north\"></attribute>\n\t\t<values>41.0 40.0 39.0</values>\n\t</variable>\n\t<variable name=\"lon\" shape=\"lon\" type=\"float\">\n\t\t<attribute name=\"units\" type=\"String\" value=\"degrees_east\"></attribute>\n\t\t<values>-109.0 -107.0 -105.0 -103.0</values>\n\t</variable>\n\t<variable name=\"time\" shape=\"time\" type=\"int\">\n\t\t<attribute name=\"units\" type=\"String\" value=\"hours\"></attribute>\n\t\t<values>6 18</values>\n\t</variable>\n\t<remove name=\"Temp\" type=\"variable\"></remove>\n</netcdf>"
     },
     "execution_count": 6,
     "metadata": {},
     "output_type": "execute_result"
    }
   ],
   "source": [
    "nc.remove_variable_attribute(variable='Temp', key='units')\n",
    "nc"
   ]
  },
  {
   "cell_type": "markdown",
   "metadata": {},
   "source": [
    "### Remove the global `title` attribute from the dataset"
   ]
  },
  {
   "cell_type": "code",
   "execution_count": 7,
   "metadata": {},
   "outputs": [
    {
     "data": {
      "text/plain": "<?xml version=\"1.0\" encoding=\"utf-8\"?>\n<netcdf location=\"nc/example1.nc\" xmlns=\"http://www.unidata.ucar.edu/namespaces/netcdf/ncml-2.2\">\n\t<dimension name=\"time\" length=\"2\" isUnlimited=\"true\"></dimension>\n\t<dimension name=\"lat\" length=\"3\"></dimension>\n\t<dimension name=\"lon\" length=\"4\"></dimension>\n\t<attribute name=\"title\" type=\"String\" value=\"Example Data\"></attribute>\n\t<variable name=\"rh\" shape=\"time lat lon\" type=\"int\">\n\t\t<attribute name=\"long_name\" type=\"String\" value=\"relative humidity\"></attribute>\n\t\t<attribute name=\"units\" type=\"String\" value=\"percent\"></attribute>\n\t</variable>\n\t<variable name=\"Temp\" shape=\"time lat lon\" type=\"double\" orgName=\"T\">\n\t\t<attribute name=\"long_name\" type=\"String\" value=\"surface temperature\"></attribute>\n\t\t<attribute name=\"units\" type=\"String\" value=\"C\"></attribute>\n\t\t<remove name=\"units\" type=\"attribute\"></remove>\n\t</variable>\n\t<variable name=\"lat\" shape=\"lat\" type=\"float\">\n\t\t<attribute name=\"units\" type=\"String\" value=\"degrees_north\"></attribute>\n\t\t<values>41.0 40.0 39.0</values>\n\t</variable>\n\t<variable name=\"lon\" shape=\"lon\" type=\"float\">\n\t\t<attribute name=\"units\" type=\"String\" value=\"degrees_east\"></attribute>\n\t\t<values>-109.0 -107.0 -105.0 -103.0</values>\n\t</variable>\n\t<variable name=\"time\" shape=\"time\" type=\"int\">\n\t\t<attribute name=\"units\" type=\"String\" value=\"hours\"></attribute>\n\t\t<values>6 18</values>\n\t</variable>\n\t<remove name=\"Temp\" type=\"variable\"></remove>\n\t<remove name=\"title\" type=\"attribute\"></remove>\n</netcdf>"
     },
     "execution_count": 7,
     "metadata": {},
     "output_type": "execute_result"
    }
   ],
   "source": [
    "nc.remove_dataset_attribute('title')\n",
    "nc"
   ]
  },
  {
   "cell_type": "markdown",
   "metadata": {},
   "source": [
    "### Add a global `history` attribute"
   ]
  },
  {
   "cell_type": "code",
   "execution_count": 8,
   "metadata": {},
   "outputs": [
    {
     "data": {
      "text/plain": "<?xml version=\"1.0\" encoding=\"utf-8\"?>\n<netcdf location=\"nc/example1.nc\" xmlns=\"http://www.unidata.ucar.edu/namespaces/netcdf/ncml-2.2\">\n\t<dimension name=\"time\" length=\"2\" isUnlimited=\"true\"></dimension>\n\t<dimension name=\"lat\" length=\"3\"></dimension>\n\t<dimension name=\"lon\" length=\"4\"></dimension>\n\t<attribute name=\"title\" type=\"String\" value=\"Example Data\"></attribute>\n\t<attribute name=\"Conventions\" type=\"String\" value=\"CF-2.0\"></attribute>\n\t<variable name=\"rh\" shape=\"time lat lon\" type=\"int\">\n\t\t<attribute name=\"long_name\" type=\"String\" value=\"relative humidity\"></attribute>\n\t\t<attribute name=\"units\" type=\"String\" value=\"percent\"></attribute>\n\t</variable>\n\t<variable name=\"Temp\" shape=\"time lat lon\" type=\"double\" orgName=\"T\">\n\t\t<attribute name=\"long_name\" type=\"String\" value=\"surface temperature\"></attribute>\n\t\t<attribute name=\"units\" type=\"String\" value=\"C\"></attribute>\n\t\t<remove name=\"units\" type=\"attribute\"></remove>\n\t</variable>\n\t<variable name=\"lat\" shape=\"lat\" type=\"float\">\n\t\t<attribute name=\"units\" type=\"String\" value=\"degrees_north\"></attribute>\n\t\t<values>41.0 40.0 39.0</values>\n\t</variable>\n\t<variable name=\"lon\" shape=\"lon\" type=\"float\">\n\t\t<attribute name=\"units\" type=\"String\" value=\"degrees_east\"></attribute>\n\t\t<values>-109.0 -107.0 -105.0 -103.0</values>\n\t</variable>\n\t<variable name=\"time\" shape=\"time\" type=\"int\">\n\t\t<attribute name=\"units\" type=\"String\" value=\"hours\"></attribute>\n\t\t<values>6 18</values>\n\t</variable>\n\t<remove name=\"Temp\" type=\"variable\"></remove>\n\t<remove name=\"title\" type=\"attribute\"></remove>\n</netcdf>"
     },
     "execution_count": 8,
     "metadata": {},
     "output_type": "execute_result"
    }
   ],
   "source": [
    "nc.add_dataset_attribute(key='Conventions', value='CF-2.0')\n",
    "nc"
   ]
  },
  {
   "cell_type": "markdown",
   "source": [
    "### Rename a global attribute"
   ],
   "metadata": {
    "collapsed": false
   }
  },
  {
   "cell_type": "code",
   "execution_count": 9,
   "outputs": [
    {
     "data": {
      "text/plain": "<?xml version=\"1.0\" encoding=\"utf-8\"?>\n<netcdf location=\"nc/example1.nc\" xmlns=\"http://www.unidata.ucar.edu/namespaces/netcdf/ncml-2.2\">\n\t<dimension name=\"time\" length=\"2\" isUnlimited=\"true\"></dimension>\n\t<dimension name=\"lat\" length=\"3\"></dimension>\n\t<dimension name=\"lon\" length=\"4\"></dimension>\n\t<attribute name=\"title\" type=\"String\" value=\"Example Data\"></attribute>\n\t<attribute name=\"Conventions\" type=\"String\" value=\"CF-2.0\"></attribute>\n\t<attribute name=\"source\">\n\t\t<orgName>Source</orgName>\n\t</attribute>\n\t<variable name=\"rh\" shape=\"time lat lon\" type=\"int\">\n\t\t<attribute name=\"long_name\" type=\"String\" value=\"relative humidity\"></attribute>\n\t\t<attribute name=\"units\" type=\"String\" value=\"percent\"></attribute>\n\t</variable>\n\t<variable name=\"Temp\" shape=\"time lat lon\" type=\"double\" orgName=\"T\">\n\t\t<attribute name=\"long_name\" type=\"String\" value=\"surface temperature\"></attribute>\n\t\t<attribute name=\"units\" type=\"String\" value=\"C\"></attribute>\n\t\t<remove name=\"units\" type=\"attribute\"></remove>\n\t</variable>\n\t<variable name=\"lat\" shape=\"lat\" type=\"float\">\n\t\t<attribute name=\"units\" type=\"String\" value=\"degrees_north\"></attribute>\n\t\t<values>41.0 40.0 39.0</values>\n\t</variable>\n\t<variable name=\"lon\" shape=\"lon\" type=\"float\">\n\t\t<attribute name=\"units\" type=\"String\" value=\"degrees_east\"></attribute>\n\t\t<values>-109.0 -107.0 -105.0 -103.0</values>\n\t</variable>\n\t<variable name=\"time\" shape=\"time\" type=\"int\">\n\t\t<attribute name=\"units\" type=\"String\" value=\"hours\"></attribute>\n\t\t<values>6 18</values>\n\t</variable>\n\t<remove name=\"Temp\" type=\"variable\"></remove>\n\t<remove name=\"title\" type=\"attribute\"></remove>\n</netcdf>"
     },
     "execution_count": 9,
     "metadata": {},
     "output_type": "execute_result"
    }
   ],
   "source": [
    "nc.rename_dataset_attribute(old_name=\"Source\", new_name=\"source\")\n",
    "nc"
   ],
   "metadata": {
    "collapsed": false
   }
  },
  {
   "cell_type": "markdown",
   "metadata": {},
   "source": [
    "### Add a variable attribute"
   ]
  },
  {
   "cell_type": "code",
   "execution_count": 10,
   "metadata": {},
   "outputs": [
    {
     "data": {
      "text/plain": "<?xml version=\"1.0\" encoding=\"utf-8\"?>\n<netcdf location=\"nc/example1.nc\" xmlns=\"http://www.unidata.ucar.edu/namespaces/netcdf/ncml-2.2\">\n\t<dimension name=\"time\" length=\"2\" isUnlimited=\"true\"></dimension>\n\t<dimension name=\"lat\" length=\"3\"></dimension>\n\t<dimension name=\"lon\" length=\"4\"></dimension>\n\t<attribute name=\"title\" type=\"String\" value=\"Example Data\"></attribute>\n\t<attribute name=\"Conventions\" type=\"String\" value=\"CF-2.0\"></attribute>\n\t<attribute name=\"source\">\n\t\t<orgName>Source</orgName>\n\t</attribute>\n\t<variable name=\"rh\" shape=\"time lat lon\" type=\"int\">\n\t\t<attribute name=\"long_name\" type=\"String\" value=\"relative humidity\"></attribute>\n\t\t<attribute name=\"units\" type=\"String\" value=\"percent\"></attribute>\n\t</variable>\n\t<variable name=\"Temp\" shape=\"time lat lon\" type=\"double\" orgName=\"T\">\n\t\t<attribute name=\"long_name\" type=\"String\" value=\"surface temperature\"></attribute>\n\t\t<attribute name=\"units\" type=\"String\" value=\"Kelvin\"></attribute>\n\t\t<attribute name=\"Fill_value\" type=\"String\" value=\"-999999999.0\"></attribute>\n\t\t<remove name=\"units\" type=\"attribute\"></remove>\n\t</variable>\n\t<variable name=\"lat\" shape=\"lat\" type=\"float\">\n\t\t<attribute name=\"units\" type=\"String\" value=\"degrees_north\"></attribute>\n\t\t<values>41.0 40.0 39.0</values>\n\t</variable>\n\t<variable name=\"lon\" shape=\"lon\" type=\"float\">\n\t\t<attribute name=\"units\" type=\"String\" value=\"degrees_east\"></attribute>\n\t\t<values>-109.0 -107.0 -105.0 -103.0</values>\n\t</variable>\n\t<variable name=\"time\" shape=\"time\" type=\"int\">\n\t\t<attribute name=\"units\" type=\"String\" value=\"hours\"></attribute>\n\t\t<values>6 18</values>\n\t</variable>\n\t<remove name=\"Temp\" type=\"variable\"></remove>\n\t<remove name=\"title\" type=\"attribute\"></remove>\n</netcdf>"
     },
     "execution_count": 10,
     "metadata": {},
     "output_type": "execute_result"
    }
   ],
   "source": [
    "nc.add_variable_attribute(variable='Temp', key='units', value='Kelvin')\n",
    "nc.add_variable_attribute(variable='Temp', key='Fill_value', value=-999999999.)\n",
    "nc"
   ]
  },
  {
   "cell_type": "markdown",
   "metadata": {},
   "source": [
    "### Write Dataset back to an ncml file"
   ]
  },
  {
   "cell_type": "code",
   "execution_count": 11,
   "metadata": {},
   "outputs": [],
   "source": [
    "import tempfile\n",
    "fn = Path(tempfile.mkdtemp()) / \"exercise1_modified.ncml\"\n",
    "nc.to_ncml(fn)"
   ]
  },
  {
   "cell_type": "markdown",
   "source": [
    "### Export metadata to a dictionary\n",
    "`Dataset` has a `to_cf_dict` method that returns a dictionary following the [CF-JSON](https://cf-json.org/specification) specifications. The output may not always be fully compliant with the CF-JSON specification because NcML files used to create virtual datasets do not always include all information that CF-JSON expects.\n"
   ],
   "metadata": {
    "collapsed": false
   }
  },
  {
   "cell_type": "code",
   "execution_count": 12,
   "outputs": [
    {
     "data": {
      "text/plain": "OrderedDict([('@location', 'nc/example1.nc'),\n             ('@xmlns',\n              {'': 'http://www.unidata.ucar.edu/namespaces/netcdf/ncml-2.2'}),\n             ('dimensions',\n              OrderedDict([('time', 2), ('lat', 3), ('lon', 4)])),\n             ('attributes',\n              OrderedDict([('title', 'Example Data'),\n                           ('Conventions', 'CF-2.0'),\n                           ('source', None)])),\n             ('variables',\n              OrderedDict([('time',\n                            OrderedDict([('shape', ['time']),\n                                         ('type', 'int'),\n                                         ('attributes',\n                                          OrderedDict([('units', 'hours')])),\n                                         ('data', [6, 18])])),\n                           ('lat',\n                            OrderedDict([('shape', ['lat']),\n                                         ('type', 'float'),\n                                         ('attributes',\n                                          OrderedDict([('units',\n                                                        'degrees_north')])),\n                                         ('data', [41.0, 40.0, 39.0])])),\n                           ('lon',\n                            OrderedDict([('shape', ['lon']),\n                                         ('type', 'float'),\n                                         ('attributes',\n                                          OrderedDict([('units',\n                                                        'degrees_east')])),\n                                         ('data',\n                                          [-109.0, -107.0, -105.0, -103.0])])),\n                           ('rh',\n                            OrderedDict([('shape', ['time', 'lat', 'lon']),\n                                         ('type', 'int'),\n                                         ('attributes',\n                                          OrderedDict([('long_name',\n                                                        'relative humidity'),\n                                                       ('units',\n                                                        'percent')]))])),\n                           ('Temp',\n                            OrderedDict([('shape', ['time', 'lat', 'lon']),\n                                         ('type', 'double'),\n                                         ('attributes',\n                                          OrderedDict([('long_name',\n                                                        'surface temperature'),\n                                                       ('units', 'Kelvin'),\n                                                       ('Fill_value',\n                                                        -999999999.0)]))]))]))])"
     },
     "execution_count": 12,
     "metadata": {},
     "output_type": "execute_result"
    }
   ],
   "source": [
    "nc.to_cf_dict()"
   ],
   "metadata": {
    "collapsed": false
   }
  },
  {
   "cell_type": "markdown",
   "metadata": {},
   "source": [
    "## Open an NcML document as an ``xarray.Dataset``\n",
    "\n",
    "``xncml`` can parse NcML instructions to create an ``xarray.Dataset``. Note that not all NcML instructions are implemented."
   ]
  },
  {
   "cell_type": "code",
   "execution_count": 13,
   "metadata": {},
   "outputs": [
    {
     "data": {
      "text/plain": "<xarray.Dataset>\nDimensions:  (time: 2, lat: 3, lon: 4)\nCoordinates:\n  * lat      (lat) float32 41.0 40.0 39.0\n  * lon      (lon) float32 -109.0 -107.0 -105.0 -103.0\n  * time     (time) int32 6 18\nData variables:\n    rh       (time, lat, lon) int32 1 2 3 4 5 6 7 8 ... 25 26 27 28 29 30 31 32\n    T        (time, lat, lon) float64 1.0 2.0 3.0 4.0 2.0 ... 7.5 15.0 22.5 30.0\nAttributes:\n    title:    Example Data",
      "text/html": "<div><svg style=\"position: absolute; width: 0; height: 0; overflow: hidden\">\n<defs>\n<symbol id=\"icon-database\" viewBox=\"0 0 32 32\">\n<path d=\"M16 0c-8.837 0-16 2.239-16 5v4c0 2.761 7.163 5 16 5s16-2.239 16-5v-4c0-2.761-7.163-5-16-5z\"></path>\n<path d=\"M16 17c-8.837 0-16-2.239-16-5v6c0 2.761 7.163 5 16 5s16-2.239 16-5v-6c0 2.761-7.163 5-16 5z\"></path>\n<path d=\"M16 26c-8.837 0-16-2.239-16-5v6c0 2.761 7.163 5 16 5s16-2.239 16-5v-6c0 2.761-7.163 5-16 5z\"></path>\n</symbol>\n<symbol id=\"icon-file-text2\" viewBox=\"0 0 32 32\">\n<path d=\"M28.681 7.159c-0.694-0.947-1.662-2.053-2.724-3.116s-2.169-2.030-3.116-2.724c-1.612-1.182-2.393-1.319-2.841-1.319h-15.5c-1.378 0-2.5 1.121-2.5 2.5v27c0 1.378 1.122 2.5 2.5 2.5h23c1.378 0 2.5-1.122 2.5-2.5v-19.5c0-0.448-0.137-1.23-1.319-2.841zM24.543 5.457c0.959 0.959 1.712 1.825 2.268 2.543h-4.811v-4.811c0.718 0.556 1.584 1.309 2.543 2.268zM28 29.5c0 0.271-0.229 0.5-0.5 0.5h-23c-0.271 0-0.5-0.229-0.5-0.5v-27c0-0.271 0.229-0.5 0.5-0.5 0 0 15.499-0 15.5 0v7c0 0.552 0.448 1 1 1h7v19.5z\"></path>\n<path d=\"M23 26h-14c-0.552 0-1-0.448-1-1s0.448-1 1-1h14c0.552 0 1 0.448 1 1s-0.448 1-1 1z\"></path>\n<path d=\"M23 22h-14c-0.552 0-1-0.448-1-1s0.448-1 1-1h14c0.552 0 1 0.448 1 1s-0.448 1-1 1z\"></path>\n<path d=\"M23 18h-14c-0.552 0-1-0.448-1-1s0.448-1 1-1h14c0.552 0 1 0.448 1 1s-0.448 1-1 1z\"></path>\n</symbol>\n</defs>\n</svg>\n<style>/* CSS stylesheet for displaying xarray objects in jupyterlab.\n *\n */\n\n:root {\n  --xr-font-color0: var(--jp-content-font-color0, rgba(0, 0, 0, 1));\n  --xr-font-color2: var(--jp-content-font-color2, rgba(0, 0, 0, 0.54));\n  --xr-font-color3: var(--jp-content-font-color3, rgba(0, 0, 0, 0.38));\n  --xr-border-color: var(--jp-border-color2, #e0e0e0);\n  --xr-disabled-color: var(--jp-layout-color3, #bdbdbd);\n  --xr-background-color: var(--jp-layout-color0, white);\n  --xr-background-color-row-even: var(--jp-layout-color1, white);\n  --xr-background-color-row-odd: var(--jp-layout-color2, #eeeeee);\n}\n\nhtml[theme=dark],\nbody[data-theme=dark],\nbody.vscode-dark {\n  --xr-font-color0: rgba(255, 255, 255, 1);\n  --xr-font-color2: rgba(255, 255, 255, 0.54);\n  --xr-font-color3: rgba(255, 255, 255, 0.38);\n  --xr-border-color: #1F1F1F;\n  --xr-disabled-color: #515151;\n  --xr-background-color: #111111;\n  --xr-background-color-row-even: #111111;\n  --xr-background-color-row-odd: #313131;\n}\n\n.xr-wrap {\n  display: block !important;\n  min-width: 300px;\n  max-width: 700px;\n}\n\n.xr-text-repr-fallback {\n  /* fallback to plain text repr when CSS is not injected (untrusted notebook) */\n  display: none;\n}\n\n.xr-header {\n  padding-top: 6px;\n  padding-bottom: 6px;\n  margin-bottom: 4px;\n  border-bottom: solid 1px var(--xr-border-color);\n}\n\n.xr-header > div,\n.xr-header > ul {\n  display: inline;\n  margin-top: 0;\n  margin-bottom: 0;\n}\n\n.xr-obj-type,\n.xr-array-name {\n  margin-left: 2px;\n  margin-right: 10px;\n}\n\n.xr-obj-type {\n  color: var(--xr-font-color2);\n}\n\n.xr-sections {\n  padding-left: 0 !important;\n  display: grid;\n  grid-template-columns: 150px auto auto 1fr 20px 20px;\n}\n\n.xr-section-item {\n  display: contents;\n}\n\n.xr-section-item input {\n  display: none;\n}\n\n.xr-section-item input + label {\n  color: var(--xr-disabled-color);\n}\n\n.xr-section-item input:enabled + label {\n  cursor: pointer;\n  color: var(--xr-font-color2);\n}\n\n.xr-section-item input:enabled + label:hover {\n  color: var(--xr-font-color0);\n}\n\n.xr-section-summary {\n  grid-column: 1;\n  color: var(--xr-font-color2);\n  font-weight: 500;\n}\n\n.xr-section-summary > span {\n  display: inline-block;\n  padding-left: 0.5em;\n}\n\n.xr-section-summary-in:disabled + label {\n  color: var(--xr-font-color2);\n}\n\n.xr-section-summary-in + label:before {\n  display: inline-block;\n  content: '►';\n  font-size: 11px;\n  width: 15px;\n  text-align: center;\n}\n\n.xr-section-summary-in:disabled + label:before {\n  color: var(--xr-disabled-color);\n}\n\n.xr-section-summary-in:checked + label:before {\n  content: '▼';\n}\n\n.xr-section-summary-in:checked + label > span {\n  display: none;\n}\n\n.xr-section-summary,\n.xr-section-inline-details {\n  padding-top: 4px;\n  padding-bottom: 4px;\n}\n\n.xr-section-inline-details {\n  grid-column: 2 / -1;\n}\n\n.xr-section-details {\n  display: none;\n  grid-column: 1 / -1;\n  margin-bottom: 5px;\n}\n\n.xr-section-summary-in:checked ~ .xr-section-details {\n  display: contents;\n}\n\n.xr-array-wrap {\n  grid-column: 1 / -1;\n  display: grid;\n  grid-template-columns: 20px auto;\n}\n\n.xr-array-wrap > label {\n  grid-column: 1;\n  vertical-align: top;\n}\n\n.xr-preview {\n  color: var(--xr-font-color3);\n}\n\n.xr-array-preview,\n.xr-array-data {\n  padding: 0 5px !important;\n  grid-column: 2;\n}\n\n.xr-array-data,\n.xr-array-in:checked ~ .xr-array-preview {\n  display: none;\n}\n\n.xr-array-in:checked ~ .xr-array-data,\n.xr-array-preview {\n  display: inline-block;\n}\n\n.xr-dim-list {\n  display: inline-block !important;\n  list-style: none;\n  padding: 0 !important;\n  margin: 0;\n}\n\n.xr-dim-list li {\n  display: inline-block;\n  padding: 0;\n  margin: 0;\n}\n\n.xr-dim-list:before {\n  content: '(';\n}\n\n.xr-dim-list:after {\n  content: ')';\n}\n\n.xr-dim-list li:not(:last-child):after {\n  content: ',';\n  padding-right: 5px;\n}\n\n.xr-has-index {\n  font-weight: bold;\n}\n\n.xr-var-list,\n.xr-var-item {\n  display: contents;\n}\n\n.xr-var-item > div,\n.xr-var-item label,\n.xr-var-item > .xr-var-name span {\n  background-color: var(--xr-background-color-row-even);\n  margin-bottom: 0;\n}\n\n.xr-var-item > .xr-var-name:hover span {\n  padding-right: 5px;\n}\n\n.xr-var-list > li:nth-child(odd) > div,\n.xr-var-list > li:nth-child(odd) > label,\n.xr-var-list > li:nth-child(odd) > .xr-var-name span {\n  background-color: var(--xr-background-color-row-odd);\n}\n\n.xr-var-name {\n  grid-column: 1;\n}\n\n.xr-var-dims {\n  grid-column: 2;\n}\n\n.xr-var-dtype {\n  grid-column: 3;\n  text-align: right;\n  color: var(--xr-font-color2);\n}\n\n.xr-var-preview {\n  grid-column: 4;\n}\n\n.xr-var-name,\n.xr-var-dims,\n.xr-var-dtype,\n.xr-preview,\n.xr-attrs dt {\n  white-space: nowrap;\n  overflow: hidden;\n  text-overflow: ellipsis;\n  padding-right: 10px;\n}\n\n.xr-var-name:hover,\n.xr-var-dims:hover,\n.xr-var-dtype:hover,\n.xr-attrs dt:hover {\n  overflow: visible;\n  width: auto;\n  z-index: 1;\n}\n\n.xr-var-attrs,\n.xr-var-data {\n  display: none;\n  background-color: var(--xr-background-color) !important;\n  padding-bottom: 5px !important;\n}\n\n.xr-var-attrs-in:checked ~ .xr-var-attrs,\n.xr-var-data-in:checked ~ .xr-var-data {\n  display: block;\n}\n\n.xr-var-data > table {\n  float: right;\n}\n\n.xr-var-name span,\n.xr-var-data,\n.xr-attrs {\n  padding-left: 25px !important;\n}\n\n.xr-attrs,\n.xr-var-attrs,\n.xr-var-data {\n  grid-column: 1 / -1;\n}\n\ndl.xr-attrs {\n  padding: 0;\n  margin: 0;\n  display: grid;\n  grid-template-columns: 125px auto;\n}\n\n.xr-attrs dt,\n.xr-attrs dd {\n  padding: 0;\n  margin: 0;\n  float: left;\n  padding-right: 10px;\n  width: auto;\n}\n\n.xr-attrs dt {\n  font-weight: normal;\n  grid-column: 1;\n}\n\n.xr-attrs dt:hover span {\n  display: inline-block;\n  background: var(--xr-background-color);\n  padding-right: 10px;\n}\n\n.xr-attrs dd {\n  grid-column: 2;\n  white-space: pre-wrap;\n  word-break: break-all;\n}\n\n.xr-icon-database,\n.xr-icon-file-text2 {\n  display: inline-block;\n  vertical-align: middle;\n  width: 1em;\n  height: 1.5em !important;\n  stroke-width: 0;\n  stroke: currentColor;\n  fill: currentColor;\n}\n</style><pre class='xr-text-repr-fallback'>&lt;xarray.Dataset&gt;\nDimensions:  (time: 2, lat: 3, lon: 4)\nCoordinates:\n  * lat      (lat) float32 41.0 40.0 39.0\n  * lon      (lon) float32 -109.0 -107.0 -105.0 -103.0\n  * time     (time) int32 6 18\nData variables:\n    rh       (time, lat, lon) int32 1 2 3 4 5 6 7 8 ... 25 26 27 28 29 30 31 32\n    T        (time, lat, lon) float64 1.0 2.0 3.0 4.0 2.0 ... 7.5 15.0 22.5 30.0\nAttributes:\n    title:    Example Data</pre><div class='xr-wrap' style='display:none'><div class='xr-header'><div class='xr-obj-type'>xarray.Dataset</div></div><ul class='xr-sections'><li class='xr-section-item'><input id='section-382d1888-31a2-4876-af43-2af2f2039cb1' class='xr-section-summary-in' type='checkbox' disabled ><label for='section-382d1888-31a2-4876-af43-2af2f2039cb1' class='xr-section-summary'  title='Expand/collapse section'>Dimensions:</label><div class='xr-section-inline-details'><ul class='xr-dim-list'><li><span class='xr-has-index'>time</span>: 2</li><li><span class='xr-has-index'>lat</span>: 3</li><li><span class='xr-has-index'>lon</span>: 4</li></ul></div><div class='xr-section-details'></div></li><li class='xr-section-item'><input id='section-7ca16d31-5e04-4c5a-af4a-f64a9c90f59a' class='xr-section-summary-in' type='checkbox'  checked><label for='section-7ca16d31-5e04-4c5a-af4a-f64a9c90f59a' class='xr-section-summary' >Coordinates: <span>(3)</span></label><div class='xr-section-inline-details'></div><div class='xr-section-details'><ul class='xr-var-list'><li class='xr-var-item'><div class='xr-var-name'><span class='xr-has-index'>lat</span></div><div class='xr-var-dims'>(lat)</div><div class='xr-var-dtype'>float32</div><div class='xr-var-preview xr-preview'>41.0 40.0 39.0</div><input id='attrs-10950f2d-0bcf-4bdc-abbb-3ac738f37ee4' class='xr-var-attrs-in' type='checkbox' ><label for='attrs-10950f2d-0bcf-4bdc-abbb-3ac738f37ee4' title='Show/Hide attributes'><svg class='icon xr-icon-file-text2'><use xlink:href='#icon-file-text2'></use></svg></label><input id='data-ec830129-114d-4b51-8ade-c91d3521dffc' class='xr-var-data-in' type='checkbox'><label for='data-ec830129-114d-4b51-8ade-c91d3521dffc' title='Show/Hide data repr'><svg class='icon xr-icon-database'><use xlink:href='#icon-database'></use></svg></label><div class='xr-var-attrs'><dl class='xr-attrs'><dt><span>units :</span></dt><dd>degrees_north</dd></dl></div><div class='xr-var-data'><pre>array([41., 40., 39.], dtype=float32)</pre></div></li><li class='xr-var-item'><div class='xr-var-name'><span class='xr-has-index'>lon</span></div><div class='xr-var-dims'>(lon)</div><div class='xr-var-dtype'>float32</div><div class='xr-var-preview xr-preview'>-109.0 -107.0 -105.0 -103.0</div><input id='attrs-b4ce5ae7-8961-4edf-bc2b-584a0318cad4' class='xr-var-attrs-in' type='checkbox' ><label for='attrs-b4ce5ae7-8961-4edf-bc2b-584a0318cad4' title='Show/Hide attributes'><svg class='icon xr-icon-file-text2'><use xlink:href='#icon-file-text2'></use></svg></label><input id='data-14b55f13-4f65-45e4-beb0-6904cd7db333' class='xr-var-data-in' type='checkbox'><label for='data-14b55f13-4f65-45e4-beb0-6904cd7db333' title='Show/Hide data repr'><svg class='icon xr-icon-database'><use xlink:href='#icon-database'></use></svg></label><div class='xr-var-attrs'><dl class='xr-attrs'><dt><span>units :</span></dt><dd>degrees_east</dd></dl></div><div class='xr-var-data'><pre>array([-109., -107., -105., -103.], dtype=float32)</pre></div></li><li class='xr-var-item'><div class='xr-var-name'><span class='xr-has-index'>time</span></div><div class='xr-var-dims'>(time)</div><div class='xr-var-dtype'>int32</div><div class='xr-var-preview xr-preview'>6 18</div><input id='attrs-8ccdbe12-0bbc-46e8-a0a7-851d6962308d' class='xr-var-attrs-in' type='checkbox' ><label for='attrs-8ccdbe12-0bbc-46e8-a0a7-851d6962308d' title='Show/Hide attributes'><svg class='icon xr-icon-file-text2'><use xlink:href='#icon-file-text2'></use></svg></label><input id='data-fb750b53-532d-4115-9912-655d41bfe74b' class='xr-var-data-in' type='checkbox'><label for='data-fb750b53-532d-4115-9912-655d41bfe74b' title='Show/Hide data repr'><svg class='icon xr-icon-database'><use xlink:href='#icon-database'></use></svg></label><div class='xr-var-attrs'><dl class='xr-attrs'><dt><span>units :</span></dt><dd>hours</dd></dl></div><div class='xr-var-data'><pre>array([ 6, 18], dtype=int32)</pre></div></li></ul></div></li><li class='xr-section-item'><input id='section-08ec97df-a4c8-4828-ad8e-126b1d835961' class='xr-section-summary-in' type='checkbox'  checked><label for='section-08ec97df-a4c8-4828-ad8e-126b1d835961' class='xr-section-summary' >Data variables: <span>(2)</span></label><div class='xr-section-inline-details'></div><div class='xr-section-details'><ul class='xr-var-list'><li class='xr-var-item'><div class='xr-var-name'><span>rh</span></div><div class='xr-var-dims'>(time, lat, lon)</div><div class='xr-var-dtype'>int32</div><div class='xr-var-preview xr-preview'>1 2 3 4 5 6 7 ... 27 28 29 30 31 32</div><input id='attrs-4f89fc77-cacb-4e5f-85c0-ea650d874dbd' class='xr-var-attrs-in' type='checkbox' ><label for='attrs-4f89fc77-cacb-4e5f-85c0-ea650d874dbd' title='Show/Hide attributes'><svg class='icon xr-icon-file-text2'><use xlink:href='#icon-file-text2'></use></svg></label><input id='data-d2b00ba9-9f43-417d-8d9f-b294e72826ae' class='xr-var-data-in' type='checkbox'><label for='data-d2b00ba9-9f43-417d-8d9f-b294e72826ae' title='Show/Hide data repr'><svg class='icon xr-icon-database'><use xlink:href='#icon-database'></use></svg></label><div class='xr-var-attrs'><dl class='xr-attrs'><dt><span>long_name :</span></dt><dd>relative humidity</dd><dt><span>units :</span></dt><dd>percent</dd></dl></div><div class='xr-var-data'><pre>array([[[ 1,  2,  3,  4],\n        [ 5,  6,  7,  8],\n        [ 9, 10, 11, 12]],\n\n       [[21, 22, 23, 24],\n        [25, 26, 27, 28],\n        [29, 30, 31, 32]]], dtype=int32)</pre></div></li><li class='xr-var-item'><div class='xr-var-name'><span>T</span></div><div class='xr-var-dims'>(time, lat, lon)</div><div class='xr-var-dtype'>float64</div><div class='xr-var-preview xr-preview'>1.0 2.0 3.0 4.0 ... 15.0 22.5 30.0</div><input id='attrs-a888e55a-d708-4f84-a6b5-a27cd4548218' class='xr-var-attrs-in' type='checkbox' ><label for='attrs-a888e55a-d708-4f84-a6b5-a27cd4548218' title='Show/Hide attributes'><svg class='icon xr-icon-file-text2'><use xlink:href='#icon-file-text2'></use></svg></label><input id='data-e7c87986-69a4-411f-bbbe-815a215c838f' class='xr-var-data-in' type='checkbox'><label for='data-e7c87986-69a4-411f-bbbe-815a215c838f' title='Show/Hide data repr'><svg class='icon xr-icon-database'><use xlink:href='#icon-database'></use></svg></label><div class='xr-var-attrs'><dl class='xr-attrs'><dt><span>long_name :</span></dt><dd>surface temperature</dd><dt><span>units :</span></dt><dd>C</dd></dl></div><div class='xr-var-data'><pre>array([[[ 1. ,  2. ,  3. ,  4. ],\n        [ 2. ,  4. ,  6. ,  8. ],\n        [ 3. ,  6. ,  9. , 12. ]],\n\n       [[ 2.5,  5. ,  7.5, 10. ],\n        [ 5. , 10. , 15. , 20. ],\n        [ 7.5, 15. , 22.5, 30. ]]])</pre></div></li></ul></div></li><li class='xr-section-item'><input id='section-2a7787c2-93d9-4d68-a83e-6e5f529f1000' class='xr-section-summary-in' type='checkbox'  checked><label for='section-2a7787c2-93d9-4d68-a83e-6e5f529f1000' class='xr-section-summary' >Attributes: <span>(1)</span></label><div class='xr-section-inline-details'></div><div class='xr-section-details'><dl class='xr-attrs'><dt><span>title :</span></dt><dd>Example Data</dd></dl></div></li></ul></div></div>"
     },
     "execution_count": 13,
     "metadata": {},
     "output_type": "execute_result"
    }
   ],
   "source": [
    "xncml.open_ncml(p / \"exercise1.ncml\")"
   ]
  },
  {
   "cell_type": "code",
   "execution_count": 14,
   "metadata": {},
   "outputs": [
    {
     "name": "stdout",
     "output_type": "stream",
     "text": [
      "Last updated: 2023-02-08\n",
      "\n",
      "Python implementation: CPython\n",
      "Python version       : 3.10.4\n",
      "IPython version      : 8.4.0\n",
      "\n",
      "Compiler    : GCC 10.3.0\n",
      "OS          : Linux\n",
      "Release     : 5.4.0-137-generic\n",
      "Machine     : x86_64\n",
      "Processor   : x86_64\n",
      "CPU cores   : 8\n",
      "Architecture: 64bit\n",
      "\n",
      "Git hash: \n",
      "\n",
      "xncml: 0.1.dev49+gc713ea3.d20230131\n",
      "\n"
     ]
    },
    {
     "name": "stderr",
     "output_type": "stream",
     "text": [
      "fatal: not a git repository (or any of the parent directories): .git\n"
     ]
    }
   ],
   "source": [
    "%load_ext watermark\n",
    "%watermark --iversion -g -m -v -u -d\n"
   ]
  }
 ],
 "metadata": {
  "kernelspec": {
   "display_name": "Python 3 (ipykernel)",
   "language": "python",
   "name": "python3"
  },
  "language_info": {
   "codemirror_mode": {
    "name": "ipython",
    "version": 3
   },
   "file_extension": ".py",
   "mimetype": "text/x-python",
   "name": "python",
   "nbconvert_exporter": "python",
   "pygments_lexer": "ipython3",
   "version": "3.10.4"
  }
 },
 "nbformat": 4,
 "nbformat_minor": 2
}

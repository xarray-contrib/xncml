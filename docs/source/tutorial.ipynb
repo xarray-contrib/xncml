{
 "cells": [
  {
   "cell_type": "markdown",
   "metadata": {},
   "source": [
    "# Xncml Tutorial"
   ]
  },
  {
   "cell_type": "code",
   "execution_count": 1,
   "metadata": {},
   "outputs": [],
   "source": [
    "%load_ext autoreload\n",
    "%autoreload 2"
   ]
  },
  {
   "cell_type": "code",
   "execution_count": 2,
   "metadata": {},
   "outputs": [],
   "source": [
    "import xncml"
   ]
  },
  {
   "cell_type": "markdown",
   "metadata": {},
   "source": [
    "## Create an Ncml Dataset object from a local NcML file"
   ]
  },
  {
   "cell_type": "code",
   "execution_count": 3,
   "metadata": {},
   "outputs": [
    {
     "data": {
      "text/plain": [
       "<?xml version=\"1.0\" encoding=\"utf-8\"?>\n",
       "<netcdf xmlns=\"http://www.unidata.ucar.edu/namespaces/netcdf/ncml-2.2\" location=\"example1.nc\">\n",
       "\t<dimension name=\"time\" length=\"2\" isUnlimited=\"true\"></dimension>\n",
       "\t<dimension name=\"lat\" length=\"3\"></dimension>\n",
       "\t<dimension name=\"lon\" length=\"4\"></dimension>\n",
       "\t<attribute name=\"title\" type=\"String\" value=\"Example Data\"></attribute>\n",
       "\t<variable name=\"rh\" shape=\"time lat lon\" type=\"int\">\n",
       "\t\t<attribute name=\"long_name\" type=\"String\" value=\"relative humidity\"></attribute>\n",
       "\t\t<attribute name=\"units\" type=\"String\" value=\"percent\"></attribute>\n",
       "\t</variable>\n",
       "\t<variable name=\"T\" shape=\"time lat lon\" type=\"double\">\n",
       "\t\t<attribute name=\"long_name\" type=\"String\" value=\"surface temperature\"></attribute>\n",
       "\t\t<attribute name=\"units\" type=\"String\" value=\"C\"></attribute>\n",
       "\t</variable>\n",
       "\t<variable name=\"lat\" shape=\"lat\" type=\"float\">\n",
       "\t\t<attribute name=\"units\" type=\"String\" value=\"degrees_north\"></attribute>\n",
       "\t\t<values>41.0 40.0 39.0</values>\n",
       "\t</variable>\n",
       "\t<variable name=\"lon\" shape=\"lon\" type=\"float\">\n",
       "\t\t<attribute name=\"units\" type=\"String\" value=\"degrees_east\"></attribute>\n",
       "\t\t<values>-109.0 -107.0 -105.0 -103.0</values>\n",
       "\t</variable>\n",
       "\t<variable name=\"time\" shape=\"time\" type=\"int\">\n",
       "\t\t<attribute name=\"units\" type=\"String\" value=\"hours\"></attribute>\n",
       "\t\t<values>6 18</values>\n",
       "\t</variable>\n",
       "</netcdf>"
      ]
     },
     "execution_count": 3,
     "metadata": {},
     "output_type": "execute_result"
    }
   ],
   "source": [
    "nc = xncml.Dataset('exercise1.ncml')\n",
    "nc"
   ]
  },
  {
   "cell_type": "markdown",
   "metadata": {},
   "source": [
    "## Rename the variable `T` to `Temp`"
   ]
  },
  {
   "cell_type": "code",
   "execution_count": 4,
   "metadata": {},
   "outputs": [],
   "source": [
    "nc.rename_variable('T', 'Temp')"
   ]
  },
  {
   "cell_type": "code",
   "execution_count": 5,
   "metadata": {},
   "outputs": [
    {
     "data": {
      "text/plain": [
       "<?xml version=\"1.0\" encoding=\"utf-8\"?>\n",
       "<netcdf xmlns=\"http://www.unidata.ucar.edu/namespaces/netcdf/ncml-2.2\" location=\"example1.nc\">\n",
       "\t<dimension name=\"time\" length=\"2\" isUnlimited=\"true\"></dimension>\n",
       "\t<dimension name=\"lat\" length=\"3\"></dimension>\n",
       "\t<dimension name=\"lon\" length=\"4\"></dimension>\n",
       "\t<attribute name=\"title\" type=\"String\" value=\"Example Data\"></attribute>\n",
       "\t<variable name=\"rh\" shape=\"time lat lon\" type=\"int\">\n",
       "\t\t<attribute name=\"long_name\" type=\"String\" value=\"relative humidity\"></attribute>\n",
       "\t\t<attribute name=\"units\" type=\"String\" value=\"percent\"></attribute>\n",
       "\t</variable>\n",
       "\t<variable name=\"Temp\" shape=\"time lat lon\" type=\"double\" orgName=\"T\">\n",
       "\t\t<attribute name=\"long_name\" type=\"String\" value=\"surface temperature\"></attribute>\n",
       "\t\t<attribute name=\"units\" type=\"String\" value=\"C\"></attribute>\n",
       "\t</variable>\n",
       "\t<variable name=\"lat\" shape=\"lat\" type=\"float\">\n",
       "\t\t<attribute name=\"units\" type=\"String\" value=\"degrees_north\"></attribute>\n",
       "\t\t<values>41.0 40.0 39.0</values>\n",
       "\t</variable>\n",
       "\t<variable name=\"lon\" shape=\"lon\" type=\"float\">\n",
       "\t\t<attribute name=\"units\" type=\"String\" value=\"degrees_east\"></attribute>\n",
       "\t\t<values>-109.0 -107.0 -105.0 -103.0</values>\n",
       "\t</variable>\n",
       "\t<variable name=\"time\" shape=\"time\" type=\"int\">\n",
       "\t\t<attribute name=\"units\" type=\"String\" value=\"hours\"></attribute>\n",
       "\t\t<values>6 18</values>\n",
       "\t</variable>\n",
       "</netcdf>"
      ]
     },
     "execution_count": 5,
     "metadata": {},
     "output_type": "execute_result"
    }
   ],
   "source": [
    "nc"
   ]
  },
  {
   "cell_type": "markdown",
   "metadata": {},
   "source": [
    "## Remove the variable `Temp` from the dataset"
   ]
  },
  {
   "cell_type": "code",
   "execution_count": 6,
   "metadata": {},
   "outputs": [],
   "source": [
    "nc.remove_variable('Temp')"
   ]
  },
  {
   "cell_type": "code",
   "execution_count": 7,
   "metadata": {},
   "outputs": [
    {
     "data": {
      "text/plain": [
       "<?xml version=\"1.0\" encoding=\"utf-8\"?>\n",
       "<netcdf xmlns=\"http://www.unidata.ucar.edu/namespaces/netcdf/ncml-2.2\" location=\"example1.nc\">\n",
       "\t<dimension name=\"time\" length=\"2\" isUnlimited=\"true\"></dimension>\n",
       "\t<dimension name=\"lat\" length=\"3\"></dimension>\n",
       "\t<dimension name=\"lon\" length=\"4\"></dimension>\n",
       "\t<attribute name=\"title\" type=\"String\" value=\"Example Data\"></attribute>\n",
       "\t<variable name=\"rh\" shape=\"time lat lon\" type=\"int\">\n",
       "\t\t<attribute name=\"long_name\" type=\"String\" value=\"relative humidity\"></attribute>\n",
       "\t\t<attribute name=\"units\" type=\"String\" value=\"percent\"></attribute>\n",
       "\t</variable>\n",
       "\t<variable name=\"Temp\" shape=\"time lat lon\" type=\"double\" orgName=\"T\">\n",
       "\t\t<attribute name=\"long_name\" type=\"String\" value=\"surface temperature\"></attribute>\n",
       "\t\t<attribute name=\"units\" type=\"String\" value=\"C\"></attribute>\n",
       "\t</variable>\n",
       "\t<variable name=\"lat\" shape=\"lat\" type=\"float\">\n",
       "\t\t<attribute name=\"units\" type=\"String\" value=\"degrees_north\"></attribute>\n",
       "\t\t<values>41.0 40.0 39.0</values>\n",
       "\t</variable>\n",
       "\t<variable name=\"lon\" shape=\"lon\" type=\"float\">\n",
       "\t\t<attribute name=\"units\" type=\"String\" value=\"degrees_east\"></attribute>\n",
       "\t\t<values>-109.0 -107.0 -105.0 -103.0</values>\n",
       "\t</variable>\n",
       "\t<variable name=\"time\" shape=\"time\" type=\"int\">\n",
       "\t\t<attribute name=\"units\" type=\"String\" value=\"hours\"></attribute>\n",
       "\t\t<values>6 18</values>\n",
       "\t</variable>\n",
       "\t<remove name=\"Temp\" type=\"variable\"></remove>\n",
       "</netcdf>"
      ]
     },
     "execution_count": 7,
     "metadata": {},
     "output_type": "execute_result"
    }
   ],
   "source": [
    "nc"
   ]
  },
  {
   "cell_type": "markdown",
   "metadata": {},
   "source": [
    "## Remove the attribute `units` from the variable `Temp`"
   ]
  },
  {
   "cell_type": "code",
   "execution_count": 8,
   "metadata": {},
   "outputs": [],
   "source": [
    "nc.remove_variable_attribute(variable='Temp', key='units')"
   ]
  },
  {
   "cell_type": "code",
   "execution_count": 9,
   "metadata": {},
   "outputs": [
    {
     "data": {
      "text/plain": [
       "<?xml version=\"1.0\" encoding=\"utf-8\"?>\n",
       "<netcdf xmlns=\"http://www.unidata.ucar.edu/namespaces/netcdf/ncml-2.2\" location=\"example1.nc\">\n",
       "\t<dimension name=\"time\" length=\"2\" isUnlimited=\"true\"></dimension>\n",
       "\t<dimension name=\"lat\" length=\"3\"></dimension>\n",
       "\t<dimension name=\"lon\" length=\"4\"></dimension>\n",
       "\t<attribute name=\"title\" type=\"String\" value=\"Example Data\"></attribute>\n",
       "\t<variable name=\"rh\" shape=\"time lat lon\" type=\"int\">\n",
       "\t\t<attribute name=\"long_name\" type=\"String\" value=\"relative humidity\"></attribute>\n",
       "\t\t<attribute name=\"units\" type=\"String\" value=\"percent\"></attribute>\n",
       "\t</variable>\n",
       "\t<variable name=\"Temp\" shape=\"time lat lon\" type=\"double\" orgName=\"T\">\n",
       "\t\t<attribute name=\"long_name\" type=\"String\" value=\"surface temperature\"></attribute>\n",
       "\t\t<attribute name=\"units\" type=\"String\" value=\"C\"></attribute>\n",
       "\t\t<remove name=\"units\" type=\"attribute\"></remove>\n",
       "\t</variable>\n",
       "\t<variable name=\"lat\" shape=\"lat\" type=\"float\">\n",
       "\t\t<attribute name=\"units\" type=\"String\" value=\"degrees_north\"></attribute>\n",
       "\t\t<values>41.0 40.0 39.0</values>\n",
       "\t</variable>\n",
       "\t<variable name=\"lon\" shape=\"lon\" type=\"float\">\n",
       "\t\t<attribute name=\"units\" type=\"String\" value=\"degrees_east\"></attribute>\n",
       "\t\t<values>-109.0 -107.0 -105.0 -103.0</values>\n",
       "\t</variable>\n",
       "\t<variable name=\"time\" shape=\"time\" type=\"int\">\n",
       "\t\t<attribute name=\"units\" type=\"String\" value=\"hours\"></attribute>\n",
       "\t\t<values>6 18</values>\n",
       "\t</variable>\n",
       "\t<remove name=\"Temp\" type=\"variable\"></remove>\n",
       "</netcdf>"
      ]
     },
     "execution_count": 9,
     "metadata": {},
     "output_type": "execute_result"
    }
   ],
   "source": [
    "nc"
   ]
  },
  {
   "cell_type": "markdown",
   "metadata": {},
   "source": [
    "## Remove the global `title` attribute from the dataset"
   ]
  },
  {
   "cell_type": "code",
   "execution_count": 10,
   "metadata": {},
   "outputs": [],
   "source": [
    "nc.remove_dataset_attribute('title')"
   ]
  },
  {
   "cell_type": "code",
   "execution_count": 11,
   "metadata": {},
   "outputs": [
    {
     "data": {
      "text/plain": [
       "<?xml version=\"1.0\" encoding=\"utf-8\"?>\n",
       "<netcdf xmlns=\"http://www.unidata.ucar.edu/namespaces/netcdf/ncml-2.2\" location=\"example1.nc\">\n",
       "\t<dimension name=\"time\" length=\"2\" isUnlimited=\"true\"></dimension>\n",
       "\t<dimension name=\"lat\" length=\"3\"></dimension>\n",
       "\t<dimension name=\"lon\" length=\"4\"></dimension>\n",
       "\t<attribute name=\"title\" type=\"String\" value=\"Example Data\"></attribute>\n",
       "\t<variable name=\"rh\" shape=\"time lat lon\" type=\"int\">\n",
       "\t\t<attribute name=\"long_name\" type=\"String\" value=\"relative humidity\"></attribute>\n",
       "\t\t<attribute name=\"units\" type=\"String\" value=\"percent\"></attribute>\n",
       "\t</variable>\n",
       "\t<variable name=\"Temp\" shape=\"time lat lon\" type=\"double\" orgName=\"T\">\n",
       "\t\t<attribute name=\"long_name\" type=\"String\" value=\"surface temperature\"></attribute>\n",
       "\t\t<attribute name=\"units\" type=\"String\" value=\"C\"></attribute>\n",
       "\t\t<remove name=\"units\" type=\"attribute\"></remove>\n",
       "\t</variable>\n",
       "\t<variable name=\"lat\" shape=\"lat\" type=\"float\">\n",
       "\t\t<attribute name=\"units\" type=\"String\" value=\"degrees_north\"></attribute>\n",
       "\t\t<values>41.0 40.0 39.0</values>\n",
       "\t</variable>\n",
       "\t<variable name=\"lon\" shape=\"lon\" type=\"float\">\n",
       "\t\t<attribute name=\"units\" type=\"String\" value=\"degrees_east\"></attribute>\n",
       "\t\t<values>-109.0 -107.0 -105.0 -103.0</values>\n",
       "\t</variable>\n",
       "\t<variable name=\"time\" shape=\"time\" type=\"int\">\n",
       "\t\t<attribute name=\"units\" type=\"String\" value=\"hours\"></attribute>\n",
       "\t\t<values>6 18</values>\n",
       "\t</variable>\n",
       "\t<remove name=\"Temp\" type=\"variable\"></remove>\n",
       "\t<remove name=\"title\" type=\"attribute\"></remove>\n",
       "</netcdf>"
      ]
     },
     "execution_count": 11,
     "metadata": {},
     "output_type": "execute_result"
    }
   ],
   "source": [
    "nc"
   ]
  },
  {
   "cell_type": "markdown",
   "metadata": {},
   "source": [
    "## Add a global `history` attribute"
   ]
  },
  {
   "cell_type": "code",
   "execution_count": 12,
   "metadata": {},
   "outputs": [],
   "source": [
    "nc.add_dataset_attribute(key='Conventions', value='CF-2.0')"
   ]
  },
  {
   "cell_type": "code",
   "execution_count": 13,
   "metadata": {},
   "outputs": [
    {
     "data": {
      "text/plain": [
       "<?xml version=\"1.0\" encoding=\"utf-8\"?>\n",
       "<netcdf xmlns=\"http://www.unidata.ucar.edu/namespaces/netcdf/ncml-2.2\" location=\"example1.nc\">\n",
       "\t<dimension name=\"time\" length=\"2\" isUnlimited=\"true\"></dimension>\n",
       "\t<dimension name=\"lat\" length=\"3\"></dimension>\n",
       "\t<dimension name=\"lon\" length=\"4\"></dimension>\n",
       "\t<attribute name=\"title\" type=\"String\" value=\"Example Data\"></attribute>\n",
       "\t<attribute name=\"Conventions\" type=\"String\" value=\"CF-2.0\"></attribute>\n",
       "\t<variable name=\"rh\" shape=\"time lat lon\" type=\"int\">\n",
       "\t\t<attribute name=\"long_name\" type=\"String\" value=\"relative humidity\"></attribute>\n",
       "\t\t<attribute name=\"units\" type=\"String\" value=\"percent\"></attribute>\n",
       "\t</variable>\n",
       "\t<variable name=\"Temp\" shape=\"time lat lon\" type=\"double\" orgName=\"T\">\n",
       "\t\t<attribute name=\"long_name\" type=\"String\" value=\"surface temperature\"></attribute>\n",
       "\t\t<attribute name=\"units\" type=\"String\" value=\"C\"></attribute>\n",
       "\t\t<remove name=\"units\" type=\"attribute\"></remove>\n",
       "\t</variable>\n",
       "\t<variable name=\"lat\" shape=\"lat\" type=\"float\">\n",
       "\t\t<attribute name=\"units\" type=\"String\" value=\"degrees_north\"></attribute>\n",
       "\t\t<values>41.0 40.0 39.0</values>\n",
       "\t</variable>\n",
       "\t<variable name=\"lon\" shape=\"lon\" type=\"float\">\n",
       "\t\t<attribute name=\"units\" type=\"String\" value=\"degrees_east\"></attribute>\n",
       "\t\t<values>-109.0 -107.0 -105.0 -103.0</values>\n",
       "\t</variable>\n",
       "\t<variable name=\"time\" shape=\"time\" type=\"int\">\n",
       "\t\t<attribute name=\"units\" type=\"String\" value=\"hours\"></attribute>\n",
       "\t\t<values>6 18</values>\n",
       "\t</variable>\n",
       "\t<remove name=\"Temp\" type=\"variable\"></remove>\n",
       "\t<remove name=\"title\" type=\"attribute\"></remove>\n",
       "</netcdf>"
      ]
     },
     "execution_count": 13,
     "metadata": {},
     "output_type": "execute_result"
    }
   ],
   "source": [
    "nc"
   ]
  },
  {
   "cell_type": "markdown",
   "metadata": {},
   "source": [
    "## Add a variable attribute"
   ]
  },
  {
   "cell_type": "code",
   "execution_count": 14,
   "metadata": {},
   "outputs": [
    {
     "data": {
      "text/plain": [
       "<?xml version=\"1.0\" encoding=\"utf-8\"?>\n",
       "<netcdf xmlns=\"http://www.unidata.ucar.edu/namespaces/netcdf/ncml-2.2\" location=\"example1.nc\">\n",
       "\t<dimension name=\"time\" length=\"2\" isUnlimited=\"true\"></dimension>\n",
       "\t<dimension name=\"lat\" length=\"3\"></dimension>\n",
       "\t<dimension name=\"lon\" length=\"4\"></dimension>\n",
       "\t<attribute name=\"title\" type=\"String\" value=\"Example Data\"></attribute>\n",
       "\t<attribute name=\"Conventions\" type=\"String\" value=\"CF-2.0\"></attribute>\n",
       "\t<variable name=\"rh\" shape=\"time lat lon\" type=\"int\">\n",
       "\t\t<attribute name=\"long_name\" type=\"String\" value=\"relative humidity\"></attribute>\n",
       "\t\t<attribute name=\"units\" type=\"String\" value=\"percent\"></attribute>\n",
       "\t</variable>\n",
       "\t<variable name=\"Temp\" shape=\"time lat lon\" type=\"double\" orgName=\"T\">\n",
       "\t\t<attribute name=\"long_name\" type=\"String\" value=\"surface temperature\"></attribute>\n",
       "\t\t<attribute name=\"units\" type=\"String\" value=\"Kelvin\"></attribute>\n",
       "\t\t<attribute name=\"Fill_value\" type=\"String\" value=\"-999999999\"></attribute>\n",
       "\t\t<remove name=\"units\" type=\"attribute\"></remove>\n",
       "\t</variable>\n",
       "\t<variable name=\"lat\" shape=\"lat\" type=\"float\">\n",
       "\t\t<attribute name=\"units\" type=\"String\" value=\"degrees_north\"></attribute>\n",
       "\t\t<values>41.0 40.0 39.0</values>\n",
       "\t</variable>\n",
       "\t<variable name=\"lon\" shape=\"lon\" type=\"float\">\n",
       "\t\t<attribute name=\"units\" type=\"String\" value=\"degrees_east\"></attribute>\n",
       "\t\t<values>-109.0 -107.0 -105.0 -103.0</values>\n",
       "\t</variable>\n",
       "\t<variable name=\"time\" shape=\"time\" type=\"int\">\n",
       "\t\t<attribute name=\"units\" type=\"String\" value=\"hours\"></attribute>\n",
       "\t\t<values>6 18</values>\n",
       "\t</variable>\n",
       "\t<remove name=\"Temp\" type=\"variable\"></remove>\n",
       "\t<remove name=\"title\" type=\"attribute\"></remove>\n",
       "</netcdf>"
      ]
     },
     "execution_count": 14,
     "metadata": {},
     "output_type": "execute_result"
    }
   ],
   "source": [
    "nc.add_variable_attribute(variable='Temp', key='units', value='Kelvin')\n",
    "nc.add_variable_attribute(variable='Temp', key='Fill_value', value=-999999999)\n",
    "nc"
   ]
  },
  {
   "cell_type": "markdown",
   "metadata": {},
   "source": [
    "## Write Dataset back to an ncml file"
   ]
  },
  {
   "cell_type": "code",
   "execution_count": 15,
   "metadata": {},
   "outputs": [
    {
     "name": "stdout",
     "output_type": "stream",
     "text": [
      "Persisted modified ncml file at: exercise1_modified.ncml\n"
     ]
    }
   ],
   "source": [
    "nc.to_ncml()"
   ]
  },
  {
   "cell_type": "code",
   "execution_count": 16,
   "metadata": {},
   "outputs": [
    {
     "name": "stdout",
     "output_type": "stream",
     "text": [
      "xncml 0.1.dev10+g17c189e.d20190411\n",
      "last updated: 2019-04-15 \n",
      "\n",
      "CPython 3.6.7\n",
      "IPython 7.1.1\n",
      "\n",
      "compiler   : GCC 4.2.1 Compatible Clang 4.0.1 (tags/RELEASE_401/final)\n",
      "system     : Darwin\n",
      "release    : 17.7.0\n",
      "machine    : x86_64\n",
      "processor  : i386\n",
      "CPU cores  : 8\n",
      "interpreter: 64bit\n",
      "Git hash   : b3c3f2fd20673c03ddebcac6166afd3a63b11770\n"
     ]
    }
   ],
   "source": [
    "%load_ext watermark\n",
    "%watermark --iversion -g -m -v -u -d\n"
   ]
  }
 ],
 "metadata": {
  "kernelspec": {
   "display_name": "Python 3",
   "language": "python",
   "name": "python3"
  },
  "language_info": {
   "codemirror_mode": {
    "name": "ipython",
    "version": 3
   },
   "file_extension": ".py",
   "mimetype": "text/x-python",
   "name": "python",
   "nbconvert_exporter": "python",
   "pygments_lexer": "ipython3",
   "version": "3.6.7"
  }
 },
 "nbformat": 4,
 "nbformat_minor": 2
}
